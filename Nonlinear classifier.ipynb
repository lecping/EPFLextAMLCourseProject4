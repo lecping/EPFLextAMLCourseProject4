{
 "cells": [
  {
   "cell_type": "markdown",
   "metadata": {},
   "source": [
    "# Nonlinear classifiers\n",
    "## Answer: \n",
    "### 1. Logistic regression baseline performs better than random forest, linear SVM and RBF SVM at 2-4% better accuracy after tuning the hyperparameters of random forest, linear SVM and RBF SVM.\n",
    "\n",
    "### 2.\n",
    "### Random forest: Test accuracy = 94%\n",
    "### SVM Linear: Test accuracy = 92%\n",
    "### SVM RBF: Test accuracy = 92%"
   ]
  },
  {
   "cell_type": "markdown",
   "metadata": {},
   "source": [
    "## 1. Import necessary libaries and datasets."
   ]
  },
  {
   "cell_type": "code",
   "execution_count": 1,
   "metadata": {},
   "outputs": [],
   "source": [
    "from sklearn.ensemble import RandomForestClassifier\n",
    "from sklearn.pipeline import Pipeline\n",
    "from sklearn.model_selection import GridSearchCV\n",
    "from sklearn.svm import SVC\n",
    "from sklearn.model_selection import cross_validate\n",
    "import numpy as np\n",
    "import pandas as pd\n",
    "import PIL.Image as Image\n",
    "import matplotlib.pyplot as plt\n",
    "\n",
    "with np.load('trainfeature.npz', allow_pickle=False) as npz_file:\n",
    "    traindata = dict(npz_file.items())\n",
    "\n",
    "X_tr = traindata['features']\n",
    "y_tr = traindata['targets']\n",
    "\n",
    "with np.load('validfeature.npz', allow_pickle=False) as npz_file:\n",
    "    validdata = dict(npz_file.items())\n",
    "\n",
    "X_va = validdata['features']\n",
    "y_va = validdata['targets']\n",
    "\n",
    "with np.load('testfeature.npz', allow_pickle=False) as npz_file:\n",
    "    testdata = dict(npz_file.items())\n",
    "\n",
    "X_te = testdata['features']\n",
    "y_te = testdata['targets']"
   ]
  },
  {
   "cell_type": "markdown",
   "metadata": {},
   "source": [
    "## 2. Random forest with increasing number of trees\n",
    "### Answer: Yes, the number of trees do increase the accuracy of the classifaction."
   ]
  },
  {
   "cell_type": "code",
   "execution_count": 2,
   "metadata": {},
   "outputs": [
    {
     "data": {
      "text/html": [
       "<div>\n",
       "<style scoped>\n",
       "    .dataframe tbody tr th:only-of-type {\n",
       "        vertical-align: middle;\n",
       "    }\n",
       "\n",
       "    .dataframe tbody tr th {\n",
       "        vertical-align: top;\n",
       "    }\n",
       "\n",
       "    .dataframe thead th {\n",
       "        text-align: right;\n",
       "    }\n",
       "</style>\n",
       "<table border=\"1\" class=\"dataframe\">\n",
       "  <thead>\n",
       "    <tr style=\"text-align: right;\">\n",
       "      <th></th>\n",
       "      <th>CV folds</th>\n",
       "      <th>train_accuracy</th>\n",
       "      <th>tree number</th>\n",
       "      <th>valid_accuracy</th>\n",
       "    </tr>\n",
       "  </thead>\n",
       "  <tbody>\n",
       "    <tr>\n",
       "      <th>115</th>\n",
       "      <td>7</td>\n",
       "      <td>0.871669</td>\n",
       "      <td>95</td>\n",
       "      <td>0.909550</td>\n",
       "    </tr>\n",
       "    <tr>\n",
       "      <th>148</th>\n",
       "      <td>7</td>\n",
       "      <td>0.861204</td>\n",
       "      <td>125</td>\n",
       "      <td>0.896254</td>\n",
       "    </tr>\n",
       "    <tr>\n",
       "      <th>159</th>\n",
       "      <td>7</td>\n",
       "      <td>0.857445</td>\n",
       "      <td>135</td>\n",
       "      <td>0.896254</td>\n",
       "    </tr>\n",
       "    <tr>\n",
       "      <th>170</th>\n",
       "      <td>7</td>\n",
       "      <td>0.861283</td>\n",
       "      <td>145</td>\n",
       "      <td>0.896254</td>\n",
       "    </tr>\n",
       "    <tr>\n",
       "      <th>181</th>\n",
       "      <td>7</td>\n",
       "      <td>0.864855</td>\n",
       "      <td>155</td>\n",
       "      <td>0.896254</td>\n",
       "    </tr>\n",
       "  </tbody>\n",
       "</table>\n",
       "</div>"
      ],
      "text/plain": [
       "     CV folds  train_accuracy  tree number  valid_accuracy\n",
       "115         7        0.871669           95        0.909550\n",
       "148         7        0.861204          125        0.896254\n",
       "159         7        0.857445          135        0.896254\n",
       "170         7        0.861283          145        0.896254\n",
       "181         7        0.864855          155        0.896254"
      ]
     },
     "execution_count": 2,
     "metadata": {},
     "output_type": "execute_result"
    }
   ],
   "source": [
    "t_values = np.r_[1, np.arange(5, 200, step=10)]\n",
    "cv_values = np.r_[np.arange(2,13,step=1)]\n",
    "\n",
    "rf_pipe = Pipeline([\n",
    "    ('rf', RandomForestClassifier(n_estimators=1, max_depth=None, random_state=0))\n",
    "])\n",
    "\n",
    "gs_results = []\n",
    "\n",
    "for t in t_values:\n",
    "    # Fit random forest model\n",
    "    rf_pipe.set_params(rf__n_estimators=t)\n",
    "    for cvalue in cv_values:\n",
    "        tr_score = cross_validate(rf_pipe, X_tr, y_tr, cv=cvalue)\n",
    "        va_score = cross_validate(rf_pipe, X_va, y_va, cv=cvalue)\n",
    "        # Save model and its performance on train/test sets\n",
    "        gs_results.append({\n",
    "            'tree number': t,\n",
    "            'CV folds': cvalue,\n",
    "            'train_accuracy': np.mean(tr_score['test_score']),\n",
    "            'valid_accuracy': np.mean(va_score['test_score'])\n",
    "        })\n",
    "    \n",
    "gs_results = pd.DataFrame(gs_results)\n",
    "gs_results.sort_values(by='valid_accuracy', ascending=False).head()"
   ]
  },
  {
   "cell_type": "markdown",
   "metadata": {},
   "source": [
    "### Observation: Using CV k-folds of 7 has the highest validation accuracy for tree number = 95."
   ]
  },
  {
   "cell_type": "code",
   "execution_count": 3,
   "metadata": {},
   "outputs": [
    {
     "name": "stdout",
     "output_type": "stream",
     "text": [
      "Test accuracy of random forest 0.94\n"
     ]
    }
   ],
   "source": [
    "rf = RandomForestClassifier(n_estimators=95, max_depth=None, random_state=0)\n",
    "#combine test and validation datasets\n",
    "X = np.concatenate((X_tr,X_va),axis=0)\n",
    "y = np.concatenate((y_tr,y_va),axis=0)\n",
    "\n",
    "rf.fit(X,y)\n",
    "print('Test accuracy of random forest',rf.score(X_te,y_te))"
   ]
  },
  {
   "cell_type": "markdown",
   "metadata": {},
   "source": [
    "## 3. Comparison of SVM for linear and RBF kernel perform better than the linear.\n",
    " - I compare both classifiers within a range of different regularization strengths. "
   ]
  },
  {
   "cell_type": "code",
   "execution_count": 4,
   "metadata": {},
   "outputs": [
    {
     "name": "stdout",
     "output_type": "stream",
     "text": [
      "Test accuracy of linear SVM 0.9219891219891221\n",
      "Test accuracy of RBF SVM 0.9219891219891221\n"
     ]
    },
    {
     "data": {
      "image/png": "[encoded data removed]",
      "text/plain": [
       "<Figure size 432x288 with 1 Axes>"
      ]
     },
     "metadata": {
      "needs_background": "light"
     },
     "output_type": "display_data"
    },
    {
     "data": {
      "image/png": "[encoded data removed]",
      "text/plain": [
       "<Figure size 432x288 with 1 Axes>"
      ]
     },
     "metadata": {
      "needs_background": "light"
     },
     "output_type": "display_data"
    }
   ],
   "source": [
    "# Populate regularization strength inputs\n",
    "C_reg = np.logspace(-10, 10, num=100)\n",
    "\n",
    "# initialize results container\n",
    "C_linear_results = []\n",
    "C_rbf_results = []\n",
    "for c in C_reg:\n",
    "    # initialise linear SVM classifer with different regularization strength\n",
    "    linear_svc = SVC(C=c,kernel='linear').fit(X_tr, y_tr)\n",
    "    linear_tr_score = cross_validate(linear_svc, X_tr, y_tr, cv=5)\n",
    "    linear_va_score = cross_validate(linear_svc, X_va, y_va, cv=5)\n",
    "    linear_te_score = cross_validate(linear_svc, X_te, y_te, cv=5)\n",
    "    # initialise RBF SVM classifer with different regularization strength\n",
    "    rbf_svc = SVC(C=c,kernel='rbf',gamma='auto').fit(X_tr, y_tr)\n",
    "    rbf_tr_score = cross_validate(rbf_svc, X_tr, y_tr, cv=5)\n",
    "    rbf_va_score = cross_validate(rbf_svc, X_va, y_va, cv=5)\n",
    "    rbf_te_score = cross_validate(rbf_svc, X_te, y_te, cv=5)\n",
    "    C_linear_results.append({\n",
    "        'Regularization C': c,        \n",
    "        'train_accuracy': np.mean(linear_tr_score['test_score']),\n",
    "        'valid_accuracy': np.mean(linear_va_score['test_score']),\n",
    "        'test_accuracy': np.mean(linear_te_score['test_score'])\n",
    "    })\n",
    "    C_rbf_results.append({\n",
    "        'Regularization C': c,        \n",
    "        'train_accuracy': np.mean(rbf_tr_score['test_score']),\n",
    "        'valid_accuracy': np.mean(rbf_va_score['test_score']),\n",
    "        'test_accuracy': np.mean(rbf_te_score['test_score'])\n",
    "    })\n",
    "    \n",
    "    \n",
    "C_linear_results = pd.DataFrame(C_linear_results)\n",
    "C_rbf_results = pd.DataFrame(C_rbf_results)\n",
    "\n",
    "C_linear_results.plot(x='Regularization C',y='test_accuracy',title='Linear SVM',logx=True)\n",
    "C_rbf_results.plot(x='Regularization C',y='test_accuracy',title='RBF SVM',logx=True)\n",
    "print('Test accuracy of linear SVM',np.max(C_linear_results['test_accuracy']))\n",
    "print('Test accuracy of RBF SVM',np.max(C_rbf_results['test_accuracy']))"
   ]
  },
  {
   "cell_type": "markdown",
   "metadata": {},
   "source": [
    "## 4. Accuracy differences between linear and RBF kernels of SVM as the function of regularization strength.\n",
    "\n",
    "Observation: Linear SVM performs better than RBF SVM when the regularization strength has the value of 1E-3 < C < 1E-1. Then their accuracies start to converge respectively at higher regularization strengths."
   ]
  },
  {
   "cell_type": "code",
   "execution_count": 5,
   "metadata": {},
   "outputs": [
    {
     "data": {
      "text/plain": [
       "Text(0.5, 0, 'Regularization Strength, C')"
      ]
     },
     "execution_count": 5,
     "metadata": {},
     "output_type": "execute_result"
    },
    {
     "data": {
      "image/png": "[encoded data removed]",
      "text/plain": [
       "<Figure size 432x288 with 1 Axes>"
      ]
     },
     "metadata": {
      "needs_background": "light"
     },
     "output_type": "display_data"
    }
   ],
   "source": [
    "dif = C_linear_results['test_accuracy']-C_rbf_results['test_accuracy']\n",
    "\n",
    "plt.plot(C_reg,dif)\n",
    "plt.xscale('log')\n",
    "plt.yscale('log')\n",
    "plt.ylabel('Linear SVM Score - RBF SVM Score')\n",
    "plt.xlabel('Regularization Strength, C')"
   ]
  }
 ],
 "metadata": {
  "kernelspec": {
   "display_name": "Python 3",
   "language": "python",
   "name": "python3"
  },
  "language_info": {
   "codemirror_mode": {
    "name": "ipython",
    "version": 3
   },
   "file_extension": ".py",
   "mimetype": "text/x-python",
   "name": "python",
   "nbconvert_exporter": "python",
   "pygments_lexer": "ipython3",
   "version": "3.6.11"
  }
 },
 "nbformat": 4,
 "nbformat_minor": 4
}
