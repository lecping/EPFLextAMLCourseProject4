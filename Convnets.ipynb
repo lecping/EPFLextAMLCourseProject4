{
 "cells": [
  {
   "cell_type": "markdown",
   "metadata": {},
   "source": [
    "# Convolutional neural network\n",
    "## Answer: Test accuracy: 56%. Convnet performs worse than dense network, probability due to the small dataset size for about a total of 345K parameters instead of 41K parameters in dense network. "
   ]
  },
  {
   "cell_type": "code",
   "execution_count": 1,
   "metadata": {},
   "outputs": [
    {
     "name": "stdout",
     "output_type": "stream",
     "text": [
      "Found 280 images belonging to 6 classes.\n",
      "Found 139 images belonging to 6 classes.\n",
      "Found 50 images belonging to 6 classes.\n"
     ]
    }
   ],
   "source": [
    "from tensorflow.keras.preprocessing.image import ImageDataGenerator\n",
    "import tensorflow.keras as keras\n",
    "import os\n",
    "\n",
    "# Create image generator\n",
    "train_generator = ImageDataGenerator(\n",
    "    rescale=1/255, horizontal_flip=True, rotation_range=5)\n",
    "valid_generator = ImageDataGenerator(rescale=1/255) \n",
    "test_generator = ImageDataGenerator(rescale=1/255)\n",
    "\n",
    "trainset = train_generator.flow_from_directory(\n",
    "    os.path.join('swissroads', 'train'), batch_size=32, target_size=(256, 256),\n",
    "    shuffle=True)\n",
    "validset = valid_generator.flow_from_directory(\n",
    "    os.path.join('swissroads', 'valid'), batch_size=32, target_size=(256, 256),\n",
    "    shuffle=False)\n",
    "testset = test_generator.flow_from_directory(\n",
    "    os.path.join('swissroads', 'test'), batch_size=32, target_size=(256, 256),\n",
    "    shuffle=False)\n"
   ]
  },
  {
   "cell_type": "code",
   "execution_count": 2,
   "metadata": {},
   "outputs": [
    {
     "name": "stdout",
     "output_type": "stream",
     "text": [
      "_________________________________________________________________\n",
      "Layer (type)                 Output Shape              Param #   \n",
      "=================================================================\n",
      "conv2d (Conv2D)              (None, 126, 126, 64)      4864      \n",
      "_________________________________________________________________\n",
      "max_pooling2d (MaxPooling2D) (None, 63, 63, 64)        0         \n",
      "_________________________________________________________________\n",
      "conv2d_1 (Conv2D)            (None, 61, 61, 64)        36928     \n",
      "_________________________________________________________________\n",
      "max_pooling2d_1 (MaxPooling2 (None, 30, 30, 64)        0         \n",
      "_________________________________________________________________\n",
      "flatten (Flatten)            (None, 57600)             0         \n",
      "_________________________________________________________________\n",
      "dense (Dense)                (None, 6)                 345606    \n",
      "=================================================================\n",
      "Total params: 387,398\n",
      "Trainable params: 387,398\n",
      "Non-trainable params: 0\n",
      "_________________________________________________________________\n"
     ]
    }
   ],
   "source": [
    "# Convolutional Network\n",
    "model = keras.Sequential()\n",
    "model.add(keras.layers.Conv2D(filters=64, kernel_size=5, strides=2,\n",
    "                              activation='relu', input_shape=(256, 256, 3)))\n",
    "model.add(keras.layers.MaxPool2D(pool_size=2))\n",
    "model.add(keras.layers.Conv2D(filters=64, kernel_size=3, strides=1,\n",
    "                              activation='relu'))\n",
    "model.add(keras.layers.MaxPool2D(pool_size=2))\n",
    "model.add(keras.layers.Flatten())\n",
    "model.add(keras.layers.Dense(units=trainset.num_classes, activation='softmax'))\n",
    "model.summary()\n",
    "\n",
    "# Compile the model\n",
    "model.compile(optimizer=keras.optimizers.Adam(), loss='categorical_crossentropy', metrics=['acc'])\n",
    "\n",
    "# End training when accuracy stops improving (optional)\n",
    "early_stopping = keras.callbacks.EarlyStopping(monitor='val_loss', patience=6)"
   ]
  },
  {
   "cell_type": "code",
   "execution_count": 3,
   "metadata": {},
   "outputs": [
    {
     "name": "stdout",
     "output_type": "stream",
     "text": [
      "Epoch 1/100\n",
      "9/9 [==============================] - 10s 1s/step - loss: 1.8970 - acc: 0.2054 - val_loss: 1.7521 - val_acc: 0.2518\n",
      "Epoch 2/100\n",
      "9/9 [==============================] - 8s 942ms/step - loss: 1.7779 - acc: 0.2510 - val_loss: 1.7169 - val_acc: 0.2590\n",
      "Epoch 3/100\n",
      "9/9 [==============================] - 9s 952ms/step - loss: 1.6485 - acc: 0.3726 - val_loss: 1.6074 - val_acc: 0.3165\n",
      "Epoch 4/100\n",
      "9/9 [==============================] - 9s 959ms/step - loss: 1.5210 - acc: 0.3809 - val_loss: 1.4904 - val_acc: 0.4173\n",
      "Epoch 5/100\n",
      "9/9 [==============================] - 9s 951ms/step - loss: 1.3672 - acc: 0.4697 - val_loss: 1.4690 - val_acc: 0.4245\n",
      "Epoch 6/100\n",
      "9/9 [==============================] - 9s 956ms/step - loss: 1.1995 - acc: 0.5790 - val_loss: 1.3653 - val_acc: 0.4532\n",
      "Epoch 7/100\n",
      "9/9 [==============================] - 9s 953ms/step - loss: 1.0498 - acc: 0.6076 - val_loss: 1.4098 - val_acc: 0.4892\n",
      "Epoch 8/100\n",
      "9/9 [==============================] - 9s 978ms/step - loss: 0.8974 - acc: 0.6887 - val_loss: 1.3453 - val_acc: 0.5324\n",
      "Epoch 9/100\n",
      "9/9 [==============================] - 9s 954ms/step - loss: 0.7568 - acc: 0.7155 - val_loss: 1.4689 - val_acc: 0.5180\n",
      "Epoch 10/100\n",
      "9/9 [==============================] - 9s 967ms/step - loss: 0.6352 - acc: 0.7907 - val_loss: 1.4544 - val_acc: 0.5252\n",
      "Epoch 11/100\n",
      "9/9 [==============================] - 9s 991ms/step - loss: 0.4325 - acc: 0.8719 - val_loss: 1.4856 - val_acc: 0.4820\n",
      "Epoch 12/100\n",
      "9/9 [==============================] - 9s 1s/step - loss: 0.3394 - acc: 0.9084 - val_loss: 1.4673 - val_acc: 0.5396\n",
      "Epoch 13/100\n",
      "9/9 [==============================] - 9s 1s/step - loss: 0.2470 - acc: 0.9293 - val_loss: 1.5820 - val_acc: 0.5180\n",
      "Epoch 14/100\n",
      "9/9 [==============================] - 11s 1s/step - loss: 0.2122 - acc: 0.9582 - val_loss: 1.7187 - val_acc: 0.5180\n"
     ]
    }
   ],
   "source": [
    "history = model.fit_generator(\n",
    "    generator=trainset, validation_data=validset, epochs=100, callbacks=[early_stopping])"
   ]
  },
  {
   "cell_type": "code",
   "execution_count": 4,
   "metadata": {},
   "outputs": [
    {
     "data": {
      "image/png": "[encoded data removed]",
      "text/plain": [
       "<Figure size 864x288 with 2 Axes>"
      ]
     },
     "metadata": {
      "needs_background": "light"
     },
     "output_type": "display_data"
    }
   ],
   "source": [
    "%matplotlib inline\n",
    "import matplotlib.pyplot as plt\n",
    "\n",
    "fig, (ax1, ax2) = plt.subplots(nrows=1, ncols=2, figsize=(12, 4))\n",
    "\n",
    "# Plot loss values\n",
    "ax1.set_title('loss: {:.4f}'.format(history.history['val_loss'][-1]))\n",
    "ax1.plot(history.history['val_loss'], label='validation')\n",
    "ax1.plot(history.history['loss'], label='training')\n",
    "ax1.legend()\n",
    "\n",
    "# plot accuracy values\n",
    "ax2.set_title('accuracy: {:.2f}%'.format(history.history['val_acc'][-1]*100))\n",
    "ax2.plot(history.history['val_acc'], label='validation')\n",
    "ax2.plot(history.history['acc'], label='training')\n",
    "ax2.legend()\n",
    "\n",
    "plt.show()"
   ]
  },
  {
   "cell_type": "code",
   "execution_count": 5,
   "metadata": {},
   "outputs": [
    {
     "name": "stdout",
     "output_type": "stream",
     "text": [
      "Test loss: 1.63\n",
      "Test accuracy: 56.00%\n"
     ]
    }
   ],
   "source": [
    "(test_loss, test_accuracy) = model.evaluate_generator(generator=testset)\n",
    "\n",
    "print('Test loss: {:.2f}'.format(test_loss))\n",
    "print('Test accuracy: {:.2f}%'.format(100*test_accuracy)) "
   ]
  }
 ],
 "metadata": {
  "kernelspec": {
   "display_name": "Python 3",
   "language": "python",
   "name": "python3"
  },
  "language_info": {
   "codemirror_mode": {
    "name": "ipython",
    "version": 3
   },
   "file_extension": ".py",
   "mimetype": "text/x-python",
   "name": "python",
   "nbconvert_exporter": "python",
   "pygments_lexer": "ipython3",
   "version": "3.6.11"
  }
 },
 "nbformat": 4,
 "nbformat_minor": 4
}
