{
 "cells": [
  {
   "cell_type": "markdown",
   "metadata": {},
   "source": [
    "# Dense network\n",
    "## Answer:\n",
    "## 1. 1-layer dense network: 94%\n",
    "## 2. 2-layer dense network: 94%"
   ]
  },
  {
   "cell_type": "markdown",
   "metadata": {},
   "source": [
    "# 1. Import necessary library and datasets."
   ]
  },
  {
   "cell_type": "code",
   "execution_count": 1,
   "metadata": {},
   "outputs": [],
   "source": [
    "import tensorflow as tf\n",
    "from tensorflow.keras import Sequential\n",
    "from tensorflow.keras.layers import Dense\n",
    "from tensorflow.keras import activations\n",
    "from tensorflow.keras import initializers\n",
    "from tensorflow.keras import optimizers\n",
    "from tensorflow.keras import losses\n",
    "from tensorflow.keras import metrics\n",
    "import tensorflow.keras as keras\n",
    "\n",
    "from sklearn.preprocessing import StandardScaler\n",
    "import numpy as np\n",
    "import pandas as pd\n",
    "import PIL.Image as Image\n",
    "import matplotlib.pyplot as plt\n",
    "\n",
    "with np.load('trainfeature.npz', allow_pickle=False) as npz_file:\n",
    "    traindata = dict(npz_file.items())\n",
    "\n",
    "X_tr = traindata['features']\n",
    "y_tr = traindata['targets']\n",
    "\n",
    "with np.load('validfeature.npz', allow_pickle=False) as npz_file:\n",
    "    validdata = dict(npz_file.items())\n",
    "\n",
    "X_va = validdata['features']\n",
    "y_va = validdata['targets']\n",
    "\n",
    "with np.load('testfeature.npz', allow_pickle=False) as npz_file:\n",
    "    testdata = dict(npz_file.items())\n",
    "\n",
    "X_te = testdata['features']\n",
    "y_te = testdata['targets']"
   ]
  },
  {
   "cell_type": "markdown",
   "metadata": {},
   "source": [
    "# 2. 1-layer dense network\n",
    "## Test loss: 0.24\n",
    "## Test accuracy: 94.00%"
   ]
  },
  {
   "cell_type": "code",
   "execution_count": 2,
   "metadata": {},
   "outputs": [
    {
     "name": "stdout",
     "output_type": "stream",
     "text": [
      "_________________________________________________________________\n",
      "Layer (type)                 Output Shape              Param #   \n",
      "=================================================================\n",
      "dense (Dense)                (None, 6)                 7686      \n",
      "=================================================================\n",
      "Total params: 7,686\n",
      "Trainable params: 7,686\n",
      "Non-trainable params: 0\n",
      "_________________________________________________________________\n"
     ]
    }
   ],
   "source": [
    "# Create model\n",
    "model = Sequential()\n",
    "\n",
    "# Output layer with six output nodes with extracted feature size of 1280\n",
    "model.add(Dense(units=6, activation=activations.softmax, input_dim=1280,\n",
    "    kernel_initializer=initializers.VarianceScaling(scale=1.0, seed=0)))\n",
    "model.summary()\n",
    "\n",
    "# Define loss function, optimizer, and metrics to track during training\n",
    "model.compile(\n",
    "    optimizer='sgd', # .. or optimizers.SGD(lr=0.01)\n",
    "    loss='sparse_categorical_crossentropy', # .. or losses.sparse_categorical_crossentropy\n",
    "    metrics=['acc'] # .. or metrics.sparse_categorical_accuracy\n",
    ")"
   ]
  },
  {
   "cell_type": "code",
   "execution_count": 3,
   "metadata": {},
   "outputs": [
    {
     "name": "stdout",
     "output_type": "stream",
     "text": [
      "Train on 280 samples, validate on 139 samples\n",
      "Epoch 1/50\n",
      "280/280 [==============================] - 0s 413us/step - loss: 1.4213 - acc: 0.4571 - val_loss: 1.0270 - val_acc: 0.7842\n",
      "Epoch 2/50\n",
      "280/280 [==============================] - 0s 32us/step - loss: 0.8702 - acc: 0.7964 - val_loss: 0.7409 - val_acc: 0.8058\n",
      "Epoch 3/50\n",
      "280/280 [==============================] - 0s 39us/step - loss: 0.6436 - acc: 0.8321 - val_loss: 0.5999 - val_acc: 0.8417\n",
      "Epoch 4/50\n",
      "280/280 [==============================] - 0s 36us/step - loss: 0.5180 - acc: 0.8964 - val_loss: 0.5228 - val_acc: 0.8561\n",
      "Epoch 5/50\n",
      "280/280 [==============================] - 0s 28us/step - loss: 0.4374 - acc: 0.8929 - val_loss: 0.4684 - val_acc: 0.8705\n",
      "Epoch 6/50\n",
      "280/280 [==============================] - 0s 32us/step - loss: 0.3801 - acc: 0.9179 - val_loss: 0.4303 - val_acc: 0.8705\n",
      "Epoch 7/50\n",
      "280/280 [==============================] - 0s 32us/step - loss: 0.3412 - acc: 0.9429 - val_loss: 0.4067 - val_acc: 0.8777\n",
      "Epoch 8/50\n",
      "280/280 [==============================] - 0s 32us/step - loss: 0.3139 - acc: 0.9393 - val_loss: 0.3852 - val_acc: 0.8705\n",
      "Epoch 9/50\n",
      "280/280 [==============================] - 0s 32us/step - loss: 0.2865 - acc: 0.9571 - val_loss: 0.3680 - val_acc: 0.8777\n",
      "Epoch 10/50\n",
      "280/280 [==============================] - 0s 28us/step - loss: 0.2653 - acc: 0.9536 - val_loss: 0.3541 - val_acc: 0.8849\n",
      "Epoch 11/50\n",
      "280/280 [==============================] - 0s 36us/step - loss: 0.2478 - acc: 0.9429 - val_loss: 0.3435 - val_acc: 0.8849\n",
      "Epoch 12/50\n",
      "280/280 [==============================] - 0s 28us/step - loss: 0.2312 - acc: 0.9571 - val_loss: 0.3356 - val_acc: 0.8849\n",
      "Epoch 13/50\n",
      "280/280 [==============================] - 0s 32us/step - loss: 0.2182 - acc: 0.9643 - val_loss: 0.3285 - val_acc: 0.8777\n",
      "Epoch 14/50\n",
      "280/280 [==============================] - 0s 28us/step - loss: 0.2077 - acc: 0.9571 - val_loss: 0.3207 - val_acc: 0.8849\n",
      "Epoch 15/50\n",
      "280/280 [==============================] - 0s 28us/step - loss: 0.1963 - acc: 0.9607 - val_loss: 0.3157 - val_acc: 0.8849\n",
      "Epoch 16/50\n",
      "280/280 [==============================] - 0s 32us/step - loss: 0.1873 - acc: 0.9643 - val_loss: 0.3108 - val_acc: 0.8777\n",
      "Epoch 17/50\n",
      "280/280 [==============================] - 0s 28us/step - loss: 0.1793 - acc: 0.9679 - val_loss: 0.3062 - val_acc: 0.8777\n",
      "Epoch 18/50\n",
      "280/280 [==============================] - 0s 32us/step - loss: 0.1721 - acc: 0.9679 - val_loss: 0.3027 - val_acc: 0.8777\n",
      "Epoch 19/50\n",
      "280/280 [==============================] - 0s 30us/step - loss: 0.1641 - acc: 0.9750 - val_loss: 0.3002 - val_acc: 0.8849\n",
      "Epoch 20/50\n",
      "280/280 [==============================] - 0s 28us/step - loss: 0.1589 - acc: 0.9750 - val_loss: 0.2973 - val_acc: 0.8921\n",
      "Epoch 21/50\n",
      "280/280 [==============================] - 0s 28us/step - loss: 0.1519 - acc: 0.9786 - val_loss: 0.2947 - val_acc: 0.8921\n",
      "Epoch 22/50\n",
      "280/280 [==============================] - 0s 28us/step - loss: 0.1457 - acc: 0.9786 - val_loss: 0.2924 - val_acc: 0.8849\n",
      "Epoch 23/50\n",
      "280/280 [==============================] - 0s 28us/step - loss: 0.1413 - acc: 0.9786 - val_loss: 0.2906 - val_acc: 0.8849\n",
      "Epoch 24/50\n",
      "280/280 [==============================] - 0s 32us/step - loss: 0.1365 - acc: 0.9786 - val_loss: 0.2877 - val_acc: 0.8777\n",
      "Epoch 25/50\n",
      "280/280 [==============================] - 0s 32us/step - loss: 0.1317 - acc: 0.9786 - val_loss: 0.2859 - val_acc: 0.8849\n",
      "Epoch 26/50\n",
      "280/280 [==============================] - 0s 28us/step - loss: 0.1272 - acc: 0.9786 - val_loss: 0.2844 - val_acc: 0.8777\n",
      "Epoch 27/50\n",
      "280/280 [==============================] - 0s 28us/step - loss: 0.1235 - acc: 0.9821 - val_loss: 0.2833 - val_acc: 0.8777\n",
      "Epoch 28/50\n",
      "280/280 [==============================] - 0s 28us/step - loss: 0.1202 - acc: 0.9857 - val_loss: 0.2831 - val_acc: 0.8777\n",
      "Epoch 29/50\n",
      "280/280 [==============================] - 0s 32us/step - loss: 0.1163 - acc: 0.9857 - val_loss: 0.2807 - val_acc: 0.8849\n",
      "Epoch 30/50\n",
      "280/280 [==============================] - 0s 30us/step - loss: 0.1130 - acc: 0.9893 - val_loss: 0.2801 - val_acc: 0.8777\n",
      "Epoch 31/50\n",
      "280/280 [==============================] - 0s 28us/step - loss: 0.1097 - acc: 0.9893 - val_loss: 0.2791 - val_acc: 0.8849\n",
      "Epoch 32/50\n",
      "280/280 [==============================] - 0s 25us/step - loss: 0.1066 - acc: 0.9893 - val_loss: 0.2786 - val_acc: 0.8777\n",
      "Epoch 33/50\n",
      "280/280 [==============================] - 0s 28us/step - loss: 0.1045 - acc: 0.9893 - val_loss: 0.2771 - val_acc: 0.8849\n",
      "Epoch 34/50\n",
      "280/280 [==============================] - 0s 28us/step - loss: 0.1020 - acc: 0.9893 - val_loss: 0.2763 - val_acc: 0.8849\n",
      "Epoch 35/50\n",
      "280/280 [==============================] - 0s 28us/step - loss: 0.0989 - acc: 0.9893 - val_loss: 0.2753 - val_acc: 0.8849\n",
      "Epoch 36/50\n",
      "280/280 [==============================] - 0s 28us/step - loss: 0.0969 - acc: 0.9893 - val_loss: 0.2743 - val_acc: 0.8849\n",
      "Epoch 37/50\n",
      "280/280 [==============================] - 0s 28us/step - loss: 0.0944 - acc: 0.9929 - val_loss: 0.2739 - val_acc: 0.8921\n",
      "Epoch 38/50\n",
      "280/280 [==============================] - 0s 32us/step - loss: 0.0918 - acc: 0.9893 - val_loss: 0.2731 - val_acc: 0.8921\n",
      "Epoch 39/50\n",
      "280/280 [==============================] - 0s 28us/step - loss: 0.0900 - acc: 0.9893 - val_loss: 0.2729 - val_acc: 0.8849\n",
      "Epoch 40/50\n",
      "280/280 [==============================] - 0s 32us/step - loss: 0.0876 - acc: 0.9929 - val_loss: 0.2721 - val_acc: 0.8921\n",
      "Epoch 41/50\n",
      "280/280 [==============================] - 0s 28us/step - loss: 0.0863 - acc: 0.9929 - val_loss: 0.2719 - val_acc: 0.8921\n",
      "Epoch 42/50\n",
      "280/280 [==============================] - 0s 28us/step - loss: 0.0843 - acc: 0.9964 - val_loss: 0.2712 - val_acc: 0.8921\n",
      "Epoch 43/50\n",
      "280/280 [==============================] - 0s 28us/step - loss: 0.0829 - acc: 0.9929 - val_loss: 0.2718 - val_acc: 0.8921\n",
      "Epoch 44/50\n",
      "280/280 [==============================] - 0s 28us/step - loss: 0.0811 - acc: 0.9964 - val_loss: 0.2707 - val_acc: 0.8921\n",
      "Epoch 45/50\n",
      "280/280 [==============================] - 0s 25us/step - loss: 0.0792 - acc: 0.9929 - val_loss: 0.2711 - val_acc: 0.8921\n",
      "Epoch 46/50\n",
      "280/280 [==============================] - 0s 28us/step - loss: 0.0776 - acc: 0.9964 - val_loss: 0.2700 - val_acc: 0.8921\n",
      "Epoch 47/50\n",
      "280/280 [==============================] - 0s 28us/step - loss: 0.0762 - acc: 0.9964 - val_loss: 0.2697 - val_acc: 0.8921\n",
      "Epoch 48/50\n",
      "280/280 [==============================] - 0s 28us/step - loss: 0.0746 - acc: 0.9964 - val_loss: 0.2694 - val_acc: 0.8921\n",
      "Epoch 49/50\n",
      "280/280 [==============================] - 0s 28us/step - loss: 0.0734 - acc: 0.9964 - val_loss: 0.2691 - val_acc: 0.8849\n",
      "Epoch 50/50\n",
      "280/280 [==============================] - 0s 28us/step - loss: 0.0719 - acc: 0.9964 - val_loss: 0.2689 - val_acc: 0.8849\n"
     ]
    }
   ],
   "source": [
    "early_stopping = keras.callbacks.EarlyStopping(monitor='val_loss', patience=6)\n",
    "\n",
    "history = model.fit(\n",
    "    x=X_tr, y=y_tr, batch_size=32, epochs=50,\n",
    "    shuffle=True, validation_data=(X_va, y_va), callbacks=[early_stopping] # Shuffle training samples\n",
    ")"
   ]
  },
  {
   "cell_type": "code",
   "execution_count": 4,
   "metadata": {},
   "outputs": [
    {
     "data": {
      "image/png": "[encoded data removed]",
      "text/plain": [
       "<Figure size 864x288 with 2 Axes>"
      ]
     },
     "metadata": {
      "needs_background": "light"
     },
     "output_type": "display_data"
    },
    {
     "name": "stdout",
     "output_type": "stream",
     "text": [
      "50/50 [==============================] - 0s 80us/step\n",
      "Test loss: 0.24\n",
      "Test accuracy: 94.00%\n"
     ]
    }
   ],
   "source": [
    "# Create two plots: one for the loss value, one for the accuracy\n",
    "fig, (ax1, ax2) = plt.subplots(nrows=1, ncols=2, figsize=(12, 4))\n",
    "\n",
    "# Plot accuracy values\n",
    "ax1.plot(history.history['loss'], label='train loss')\n",
    "ax1.plot(history.history['val_loss'], label='val loss')\n",
    "ax1.set_title('Validation loss {:.3f} (mean last 3)'.format(\n",
    "    np.mean(history.history['val_loss'][-3:]) # last three values\n",
    "))\n",
    "ax1.set_xlabel('epoch')\n",
    "ax1.set_ylabel('loss value')\n",
    "ax1.legend()\n",
    "\n",
    "# Plot accuracy values\n",
    "ax2.plot(history.history['acc'], label='train acc')\n",
    "ax2.plot(history.history['val_acc'], label='val acc')\n",
    "ax2.set_title('Validation accuracy {:.3f} (mean last 3)'.format(\n",
    "    np.mean(history.history['val_acc'][-3:]) # last three values\n",
    "))\n",
    "ax2.set_xlabel('epoch')\n",
    "ax2.set_ylabel('accuracy')\n",
    "ax2.legend()\n",
    "plt.show()\n",
    "\n",
    "(test_loss, test_accuracy) = model.evaluate(X_te, y_te, batch_size=32)\n",
    "\n",
    "print('Test loss: {:.2f}'.format(test_loss))\n",
    "print('Test accuracy: {:.2f}%'.format(100*test_accuracy)) "
   ]
  },
  {
   "cell_type": "markdown",
   "metadata": {},
   "source": [
    "# 3. 2-layer dense network\n",
    "## Test loss: 0.26\n",
    "## Test accuracy: 94.00%"
   ]
  },
  {
   "cell_type": "code",
   "execution_count": 5,
   "metadata": {},
   "outputs": [
    {
     "name": "stdout",
     "output_type": "stream",
     "text": [
      "_________________________________________________________________\n",
      "Layer (type)                 Output Shape              Param #   \n",
      "=================================================================\n",
      "dense_1 (Dense)              (None, 32)                40992     \n",
      "_________________________________________________________________\n",
      "dense_2 (Dense)              (None, 6)                 198       \n",
      "=================================================================\n",
      "Total params: 41,190\n",
      "Trainable params: 41,190\n",
      "Non-trainable params: 0\n",
      "_________________________________________________________________\n"
     ]
    }
   ],
   "source": [
    "# Create model\n",
    "model2 = Sequential()\n",
    "\n",
    "# Hidden layer with 32 nodes\n",
    "model2.add(Dense(units=32, activation=activations.relu, input_dim=1280,\n",
    "    kernel_initializer=initializers.VarianceScaling(scale=2.0, seed=0)))\n",
    "\n",
    "# Output layer with 6 ouputs\n",
    "model2.add(Dense(\n",
    "    units=6, activation=activations.softmax,\n",
    "    kernel_initializer=initializers.VarianceScaling(scale=1.0, seed=0)))\n",
    "model2.summary()\n",
    "\n",
    "# Define loss function, optimizer, and metrics to track during training\n",
    "model2.compile(\n",
    "    optimizer='sgd', # .. or optimizers.SGD(lr=0.01)\n",
    "    loss='sparse_categorical_crossentropy', # .. or losses.sparse_categorical_crossentropy\n",
    "    metrics=['acc'] # .. or metrics.sparse_categorical_accuracy\n",
    ")"
   ]
  },
  {
   "cell_type": "code",
   "execution_count": 6,
   "metadata": {},
   "outputs": [
    {
     "name": "stdout",
     "output_type": "stream",
     "text": [
      "Train on 280 samples, validate on 139 samples\n",
      "Epoch 1/50\n",
      "280/280 [==============================] - 0s 452us/step - loss: 1.7068 - acc: 0.3429 - val_loss: 1.4564 - val_acc: 0.5036\n",
      "Epoch 2/50\n",
      "280/280 [==============================] - 0s 39us/step - loss: 1.2603 - acc: 0.5964 - val_loss: 1.1419 - val_acc: 0.6763\n",
      "Epoch 3/50\n",
      "280/280 [==============================] - 0s 36us/step - loss: 0.9990 - acc: 0.7464 - val_loss: 0.9412 - val_acc: 0.7554\n",
      "Epoch 4/50\n",
      "280/280 [==============================] - 0s 36us/step - loss: 0.8236 - acc: 0.8250 - val_loss: 0.8043 - val_acc: 0.8058\n",
      "Epoch 5/50\n",
      "280/280 [==============================] - 0s 39us/step - loss: 0.7001 - acc: 0.8464 - val_loss: 0.7075 - val_acc: 0.8345\n",
      "Epoch 6/50\n",
      "280/280 [==============================] - 0s 46us/step - loss: 0.6065 - acc: 0.8679 - val_loss: 0.6349 - val_acc: 0.8345\n",
      "Epoch 7/50\n",
      "280/280 [==============================] - 0s 36us/step - loss: 0.5353 - acc: 0.8750 - val_loss: 0.5768 - val_acc: 0.8561\n",
      "Epoch 8/50\n",
      "280/280 [==============================] - 0s 36us/step - loss: 0.4736 - acc: 0.8786 - val_loss: 0.5342 - val_acc: 0.8777\n",
      "Epoch 9/50\n",
      "280/280 [==============================] - 0s 36us/step - loss: 0.4262 - acc: 0.8964 - val_loss: 0.4984 - val_acc: 0.8705\n",
      "Epoch 10/50\n",
      "280/280 [==============================] - 0s 34us/step - loss: 0.3877 - acc: 0.9107 - val_loss: 0.4652 - val_acc: 0.8705\n",
      "Epoch 11/50\n",
      "280/280 [==============================] - 0s 32us/step - loss: 0.3542 - acc: 0.9214 - val_loss: 0.4420 - val_acc: 0.8849\n",
      "Epoch 12/50\n",
      "280/280 [==============================] - 0s 36us/step - loss: 0.3242 - acc: 0.9286 - val_loss: 0.4177 - val_acc: 0.8849\n",
      "Epoch 13/50\n",
      "280/280 [==============================] - 0s 36us/step - loss: 0.2985 - acc: 0.9357 - val_loss: 0.3993 - val_acc: 0.8993\n",
      "Epoch 14/50\n",
      "280/280 [==============================] - 0s 32us/step - loss: 0.2760 - acc: 0.9500 - val_loss: 0.3843 - val_acc: 0.9065\n",
      "Epoch 15/50\n",
      "280/280 [==============================] - 0s 36us/step - loss: 0.2569 - acc: 0.9500 - val_loss: 0.3711 - val_acc: 0.9065\n",
      "Epoch 16/50\n",
      "280/280 [==============================] - 0s 32us/step - loss: 0.2429 - acc: 0.9500 - val_loss: 0.3584 - val_acc: 0.9065\n",
      "Epoch 17/50\n",
      "280/280 [==============================] - 0s 36us/step - loss: 0.2267 - acc: 0.9571 - val_loss: 0.3481 - val_acc: 0.9137\n",
      "Epoch 18/50\n",
      "280/280 [==============================] - 0s 36us/step - loss: 0.2142 - acc: 0.9536 - val_loss: 0.3414 - val_acc: 0.9065\n",
      "Epoch 19/50\n",
      "280/280 [==============================] - 0s 32us/step - loss: 0.2018 - acc: 0.9643 - val_loss: 0.3339 - val_acc: 0.9065\n",
      "Epoch 20/50\n",
      "280/280 [==============================] - 0s 34us/step - loss: 0.1930 - acc: 0.9607 - val_loss: 0.3272 - val_acc: 0.9065\n",
      "Epoch 21/50\n",
      "280/280 [==============================] - 0s 36us/step - loss: 0.1812 - acc: 0.9643 - val_loss: 0.3212 - val_acc: 0.9137\n",
      "Epoch 22/50\n",
      "280/280 [==============================] - 0s 36us/step - loss: 0.1731 - acc: 0.9643 - val_loss: 0.3158 - val_acc: 0.9065\n",
      "Epoch 23/50\n",
      "280/280 [==============================] - 0s 39us/step - loss: 0.1653 - acc: 0.9750 - val_loss: 0.3095 - val_acc: 0.9137\n",
      "Epoch 24/50\n",
      "280/280 [==============================] - 0s 36us/step - loss: 0.1569 - acc: 0.9714 - val_loss: 0.3057 - val_acc: 0.9137\n",
      "Epoch 25/50\n",
      "280/280 [==============================] - 0s 36us/step - loss: 0.1510 - acc: 0.9821 - val_loss: 0.3013 - val_acc: 0.9065\n",
      "Epoch 26/50\n",
      "280/280 [==============================] - 0s 32us/step - loss: 0.1443 - acc: 0.9821 - val_loss: 0.2985 - val_acc: 0.9137\n",
      "Epoch 27/50\n",
      "280/280 [==============================] - 0s 36us/step - loss: 0.1376 - acc: 0.9857 - val_loss: 0.2975 - val_acc: 0.9137\n",
      "Epoch 28/50\n",
      "280/280 [==============================] - 0s 32us/step - loss: 0.1325 - acc: 0.9786 - val_loss: 0.2938 - val_acc: 0.9065\n",
      "Epoch 29/50\n",
      "280/280 [==============================] - 0s 39us/step - loss: 0.1275 - acc: 0.9821 - val_loss: 0.2914 - val_acc: 0.9137\n",
      "Epoch 30/50\n",
      "280/280 [==============================] - 0s 36us/step - loss: 0.1229 - acc: 0.9821 - val_loss: 0.2893 - val_acc: 0.9065\n",
      "Epoch 31/50\n",
      "280/280 [==============================] - 0s 36us/step - loss: 0.1176 - acc: 0.9857 - val_loss: 0.2862 - val_acc: 0.8993\n",
      "Epoch 32/50\n",
      "280/280 [==============================] - 0s 32us/step - loss: 0.1138 - acc: 0.9857 - val_loss: 0.2852 - val_acc: 0.8993\n",
      "Epoch 33/50\n",
      "280/280 [==============================] - 0s 36us/step - loss: 0.1095 - acc: 0.9857 - val_loss: 0.2821 - val_acc: 0.8993\n",
      "Epoch 34/50\n",
      "280/280 [==============================] - 0s 36us/step - loss: 0.1055 - acc: 0.9857 - val_loss: 0.2814 - val_acc: 0.8993\n",
      "Epoch 35/50\n",
      "280/280 [==============================] - 0s 36us/step - loss: 0.1027 - acc: 0.9893 - val_loss: 0.2801 - val_acc: 0.8993\n",
      "Epoch 36/50\n",
      "280/280 [==============================] - 0s 36us/step - loss: 0.0988 - acc: 0.9893 - val_loss: 0.2798 - val_acc: 0.8993\n",
      "Epoch 37/50\n",
      "280/280 [==============================] - 0s 46us/step - loss: 0.0955 - acc: 0.9929 - val_loss: 0.2770 - val_acc: 0.8993\n",
      "Epoch 38/50\n",
      "280/280 [==============================] - 0s 36us/step - loss: 0.0923 - acc: 0.9929 - val_loss: 0.2758 - val_acc: 0.8993\n",
      "Epoch 39/50\n",
      "280/280 [==============================] - 0s 36us/step - loss: 0.0900 - acc: 0.9964 - val_loss: 0.2757 - val_acc: 0.8993\n",
      "Epoch 40/50\n",
      "280/280 [==============================] - 0s 36us/step - loss: 0.0864 - acc: 0.9929 - val_loss: 0.2738 - val_acc: 0.8993\n",
      "Epoch 41/50\n",
      "280/280 [==============================] - 0s 32us/step - loss: 0.0841 - acc: 0.9964 - val_loss: 0.2736 - val_acc: 0.8993\n",
      "Epoch 42/50\n",
      "280/280 [==============================] - 0s 36us/step - loss: 0.0821 - acc: 0.9964 - val_loss: 0.2722 - val_acc: 0.8993\n",
      "Epoch 43/50\n",
      "280/280 [==============================] - 0s 36us/step - loss: 0.0791 - acc: 0.9964 - val_loss: 0.2720 - val_acc: 0.8993\n",
      "Epoch 44/50\n",
      "280/280 [==============================] - 0s 36us/step - loss: 0.0770 - acc: 0.9929 - val_loss: 0.2703 - val_acc: 0.9065\n",
      "Epoch 45/50\n",
      "280/280 [==============================] - 0s 36us/step - loss: 0.0746 - acc: 0.9964 - val_loss: 0.2704 - val_acc: 0.8993\n",
      "Epoch 46/50\n",
      "280/280 [==============================] - 0s 36us/step - loss: 0.0730 - acc: 0.9964 - val_loss: 0.2707 - val_acc: 0.8993\n",
      "Epoch 47/50\n",
      "280/280 [==============================] - 0s 36us/step - loss: 0.0707 - acc: 0.9964 - val_loss: 0.2688 - val_acc: 0.8993\n",
      "Epoch 48/50\n",
      "280/280 [==============================] - 0s 46us/step - loss: 0.0693 - acc: 0.9964 - val_loss: 0.2682 - val_acc: 0.8993\n",
      "Epoch 49/50\n",
      "280/280 [==============================] - 0s 46us/step - loss: 0.0676 - acc: 0.9964 - val_loss: 0.2677 - val_acc: 0.8993\n",
      "Epoch 50/50\n",
      "280/280 [==============================] - 0s 64us/step - loss: 0.0655 - acc: 0.9964 - val_loss: 0.2684 - val_acc: 0.8993\n"
     ]
    }
   ],
   "source": [
    "history2 = model2.fit(\n",
    "    x=X_tr, y=y_tr,batch_size=32, epochs=50,\n",
    "    shuffle=True, validation_data=(X_va, y_va), callbacks=[early_stopping]\n",
    ")"
   ]
  },
  {
   "cell_type": "code",
   "execution_count": 7,
   "metadata": {},
   "outputs": [
    {
     "data": {
      "image/png": "[encoded data removed]",
      "text/plain": [
       "<Figure size 864x288 with 2 Axes>"
      ]
     },
     "metadata": {
      "needs_background": "light"
     },
     "output_type": "display_data"
    },
    {
     "name": "stdout",
     "output_type": "stream",
     "text": [
      "50/50 [==============================] - 0s 20us/step\n",
      "Test loss: 0.26\n",
      "Test accuracy: 94.00%\n"
     ]
    }
   ],
   "source": [
    "# Create two plots: one for the loss value, one for the accuracy\n",
    "fig, (ax1, ax2) = plt.subplots(nrows=1, ncols=2, figsize=(12, 4))\n",
    "\n",
    "# Plot accuracy values\n",
    "ax1.plot(history2.history['loss'], label='train loss')\n",
    "ax1.plot(history2.history['val_loss'], label='val loss')\n",
    "ax1.set_title('Validation loss {:.3f} (mean last 3)'.format(\n",
    "    np.mean(history.history['val_loss'][-3:]) # last three values\n",
    "))\n",
    "ax1.set_xlabel('epoch')\n",
    "ax1.set_ylabel('loss value')\n",
    "ax1.legend()\n",
    "\n",
    "# Plot accuracy values\n",
    "ax2.plot(history2.history['acc'], label='train acc')\n",
    "ax2.plot(history2.history['val_acc'], label='val acc')\n",
    "ax2.set_title('Validation accuracy {:.3f} (mean last 3)'.format(\n",
    "    np.mean(history.history['val_acc'][-3:]) # last three values\n",
    "))\n",
    "ax2.set_xlabel('epoch')\n",
    "ax2.set_ylabel('accuracy')\n",
    "ax2.legend()\n",
    "plt.show()\n",
    "\n",
    "\n",
    "(test_loss2, test_accuracy2) = model2.evaluate(X_te, y_te, batch_size=32)\n",
    "\n",
    "print('Test loss: {:.2f}'.format(test_loss2))\n",
    "print('Test accuracy: {:.2f}%'.format(100*test_accuracy2)) "
   ]
  },
  {
   "cell_type": "code",
   "execution_count": null,
   "metadata": {},
   "outputs": [],
   "source": []
  }
 ],
 "metadata": {
  "kernelspec": {
   "display_name": "Python 3",
   "language": "python",
   "name": "python3"
  },
  "language_info": {
   "codemirror_mode": {
    "name": "ipython",
    "version": 3
   },
   "file_extension": ".py",
   "mimetype": "text/x-python",
   "name": "python",
   "nbconvert_exporter": "python",
   "pygments_lexer": "ipython3",
   "version": "3.6.11"
  }
 },
 "nbformat": 4,
 "nbformat_minor": 4
}
